{
 "cells": [
  {
   "cell_type": "code",
   "execution_count": 3,
   "metadata": {},
   "outputs": [],
   "source": [
    "import re\n",
    "import glob\n",
    "\n",
    "def getEnergy(path):\n",
    "    with open(path) as file:\n",
    "        content = file.readlines()\n",
    "    for line in content:\n",
    "        if \"Final defect energy\" in line:\n",
    "            return float(re.findall(\"[-+]?[.]?[\\d]+(?:,\\d\\d\\d)*[\\.]?\\d*(?:[eE][-+]?\\d+)?\", line)[0])\n",
    "\n",
    "def getLatticeEnergy(path):\n",
    "    with open(path) as file:\n",
    "        content = file.readlines()\n",
    "    for line in content:\n",
    "        if \"Final energy\" in line:\n",
    "            return float(re.findall(\"[-+]?[.]?[\\d]+(?:,\\d\\d\\d)*[\\.]?\\d*(?:[eE][-+]?\\d+)?\", line)[0])\n",
    "\n",
    "def energyList(data):\n",
    "    files = glob.glob(data)\n",
    "    energies = dict()\n",
    "    for f in files:\n",
    "        energies[f] = getEnergy(f)\n",
    "    return energies\n",
    "        \n",
    "def latticeEnergy(data):\n",
    "    lattice_energy = getLatticeEnergy(data)\n",
    "    return lattice_energy\n",
    "\n",
    "energies = energyList('*.out')\n",
    "lattice_energy = latticeEnergy('nacl_na_imig.out')\n",
    "\n",
    "magic = open('output.txt', 'w+')\n",
    "\n",
    "magic.write(\"Cl vacancy defect energy: \" + str(energies['nacl_cl_vac.out']) + \" eV\" + \"\\n\")\n",
    "magic.write(\"Cl vacancy migration barrier: \" + str(energies['nacl_cl_vmig.out'] - energies['nacl_cl_vac.out']) + \" eV\" + \"\\n\")\n",
    "magic.write(\"Cl interstitial defect energy: \" + str(energies['nacl_cl_int.out']) + \" eV\" + \"\\n\")\n",
    "magic.write(\"Cl interstitial migration barrier: \" + str(energies['nacl_cl_imig.out'] - energies['nacl_cl_int.out']) + \" eV\" + \"\\n\")\n",
    "magic.write(\"\\n\")\n",
    "magic.write(\"Na vacancy defect energy: \" + str(energies['nacl_na_vac.out']) + \" eV\" + \"\\n\")\n",
    "magic.write(\"Na vacancy migration barrier: \" + str(energies['nacl_na_vmig.out'] - energies['nacl_na_vac.out']) + \" eV\" + \"\\n\")\n",
    "magic.write(\"Na interstitial defect energy: \" + str(energies['nacl_na_int.out']) + \" eV\" + \"\\n\")\n",
    "magic.write(\"Na interstitial migration barrier: \" + str(energies['nacl_na_imig.out'] - energies['nacl_na_int.out']) + \" eV\" + \"\\n\")\n",
    "magic.write(\"\\n\")\n",
    "magic.write(\"NaCl Schottky defect energy: \" + str(energies['nacl_na_vac.out'] + energies['nacl_cl_vac.out'] + lattice_energy) + \" eV\" + \"\\n\")\n",
    "magic.write(\"Cl Frenkel defect energy: \" + str(energies['nacl_cl_vac.out'] + energies['nacl_cl_int.out']) + \" eV\" + \"\\n\")\n",
    "magic.write(\"Na Frenkel defect energy: \" + str(energies['nacl_na_vac.out'] + energies['nacl_na_int.out']) + \" eV\" + \"\\n\")\n",
    "magic.write(\"Lattice energy: \" + str(lattice_energy) + \" eV\" + \"\\n\")\n",
    "\n",
    "magic.close()"
   ]
  },
  {
   "cell_type": "code",
   "execution_count": null,
   "metadata": {},
   "outputs": [],
   "source": []
  }
 ],
 "metadata": {
  "kernelspec": {
   "display_name": "Python 3",
   "language": "python",
   "name": "python3"
  },
  "language_info": {
   "codemirror_mode": {
    "name": "ipython",
    "version": 3
   },
   "file_extension": ".py",
   "mimetype": "text/x-python",
   "name": "python",
   "nbconvert_exporter": "python",
   "pygments_lexer": "ipython3",
   "version": "3.8.2"
  }
 },
 "nbformat": 4,
 "nbformat_minor": 4
}
