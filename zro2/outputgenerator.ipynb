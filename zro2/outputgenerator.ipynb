{
 "cells": [
  {
   "cell_type": "code",
   "execution_count": 4,
   "metadata": {},
   "outputs": [],
   "source": [
    "import re\n",
    "import glob\n",
    "\n",
    "def getEnergy(path):\n",
    "    with open(path) as file:\n",
    "        content = file.readlines()\n",
    "    for line in content:\n",
    "        if \"Final defect energy\" in line:\n",
    "            return float(re.findall(\"[-+]?[.]?[\\d]+(?:,\\d\\d\\d)*[\\.]?\\d*(?:[eE][-+]?\\d+)?\", line)[0])\n",
    "\n",
    "def getLatticeEnergy(path):\n",
    "    with open(path) as file:\n",
    "        content = file.readlines()\n",
    "    for line in content:\n",
    "        if \"Final energy\" in line:\n",
    "            return float(re.findall(\"[-+]?[.]?[\\d]+(?:,\\d\\d\\d)*[\\.]?\\d*(?:[eE][-+]?\\d+)?\", line)[0])\n",
    "\n",
    "def energyList(data):\n",
    "    files = glob.glob(data)\n",
    "    energies = dict()\n",
    "    for f in files:\n",
    "        energies[f] = getEnergy(f)\n",
    "    return energies\n",
    "        \n",
    "def latticeEnergy(data):\n",
    "    lattice_energy = getLatticeEnergy(data)\n",
    "    return lattice_energy\n",
    "\n",
    "energies = energyList('*.out')\n",
    "lattice_energy = latticeEnergy('zro2_zr_imig.out')\n",
    "\n",
    "magic = open('output.txt', 'w+')\n",
    "\n",
    "magic.write(\"O vacancy defect energy: \" + str(energies['zro2_o_vac.out']) + \" eV\" + \"\\n\")\n",
    "magic.write(\"O vacancy migration barrier: \" + str(energies['zro2_o_vmig.out'] - energies['zro2_o_vac.out']) + \" eV\" + \"\\n\")\n",
    "magic.write(\"O interstitial defect energy: \" + str(energies['zro2_o_int.out']) + \" eV\" + \"\\n\")\n",
    "magic.write(\"O interstitial migration barrier: \" + str(energies['zro2_o_imig.out'] - energies['zro2_o_int.out']) + \" eV\" + \"\\n\")\n",
    "magic.write(\"\\n\")\n",
    "magic.write(\"Zr vacancy defect energy: \" + str(energies['zro2_zr_vac.out']) + \" eV\" + \"\\n\")\n",
    "magic.write(\"Zr vacancy migration barrier: \" + str(energies['zro2_zr_vmig.out'] - energies['zro2_zr_vac.out']) + \" eV\" + \"\\n\")\n",
    "magic.write(\"Zr interstitial defect energy: \" + str(energies['zro2_zr_int.out']) + \" eV\" + \"\\n\")\n",
    "magic.write(\"Zr interstitial migration barrier: \" + str(energies['zro2_zr_imig.out'] - energies['zro2_zr_int.out']) + \" eV\" + \"\\n\")\n",
    "magic.write(\"\\n\")\n",
    "magic.write(\"ZrO2 Schottky defect energy: \" + str(energies['zro2_zr_vac.out'] + 2 * energies['zro2_o_vac.out'] + lattice_energy) + \" eV\" + \"\\n\")\n",
    "magic.write(\"O Frenkel defect energy: \" + str(energies['zro2_o_vac.out'] + energies['zro2_o_int.out']) + \" eV\" + \"\\n\")\n",
    "magic.write(\"Zr Frenkel defect energy: \" + str(energies['zro2_zr_vac.out'] + energies['zro2_zr_int.out']) + \" eV\" + \"\\n\")\n",
    "magic.write(\"Lattice energy: \" + str(lattice_energy) + \" eV\" + \"\\n\")\n",
    "\n",
    "magic.close()"
   ]
  },
  {
   "cell_type": "code",
   "execution_count": null,
   "metadata": {},
   "outputs": [],
   "source": []
  }
 ],
 "metadata": {
  "kernelspec": {
   "display_name": "Python 3",
   "language": "python",
   "name": "python3"
  },
  "language_info": {
   "codemirror_mode": {
    "name": "ipython",
    "version": 3
   },
   "file_extension": ".py",
   "mimetype": "text/x-python",
   "name": "python",
   "nbconvert_exporter": "python",
   "pygments_lexer": "ipython3",
   "version": "3.8.2"
  }
 },
 "nbformat": 4,
 "nbformat_minor": 4
}
