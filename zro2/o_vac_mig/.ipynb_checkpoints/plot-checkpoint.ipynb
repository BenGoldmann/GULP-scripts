{
 "cells": [
  {
   "cell_type": "code",
   "execution_count": 6,
   "metadata": {},
   "outputs": [],
   "source": [
    "magic = open('input.txt', 'w+')\n",
    "\n",
    "for i in range(0, 51, 1):\n",
    "    magic.write('gulp < ' + str(i) + '.inp > ' + str(i) + '.out; ')\n",
    "    \n",
    "magic.close()"
   ]
  },
  {
   "cell_type": "code",
   "execution_count": 4,
   "metadata": {},
   "outputs": [
    {
     "name": "stdout",
     "output_type": "stream",
     "text": [
      "[37.0, 13.0, 35.0, 1.0, 38.0, 17.0, 32.0, 16.0, 7.0, 41.0, 28.0, 2.0, 50.0, 4.0, 39.0, 46.0, 12.0, 8.0, 20.0, 47.0, 5.0, 15.0, 30.0, 11.0, 45.0, 3.0, 18.0, 43.0, 26.0, 29.0, 0.0, 36.0, 6.0, 25.0, 34.0, 22.0, 31.0, 42.0, 9.0, 14.0, 48.0, 23.0, 40.0, 21.0, 49.0, 33.0, 10.0, 19.0, 24.0, 27.0, 44.0] [14.68623218, 14.68623219, 14.65742616, 14.80114853, 14.68282022, 14.64339215, 14.63792872, 14.64993914, 14.67473962, 14.67234622, 14.61045868, 14.76446865, 14.84535772, 14.71265679, 14.67874238, 14.71265679, 14.68282024, 14.67195196, 14.61445322, 14.73510736, 14.69634192, 14.65742617, 14.61445321, 14.67874237, 14.69634191, 14.73510737, 14.63792872, 14.67473961, 14.60891504, 14.61214175, 14.84535772, 14.667119, 14.68523775, 14.60370048, 14.64993913, 14.61045868, 14.61746236, 14.67195195, 14.67234623, 14.66711901, 14.76446865, 14.60916115, 14.67463395, 14.61214176, 14.80114852, 14.64339214, 14.67463396, 14.61746236, 14.60891504, 14.60916114, 14.68523773]\n"
     ]
    },
    {
     "data": {
      "text/plain": [
       "<function matplotlib.pyplot.show(close=None, block=None)>"
      ]
     },
     "execution_count": 4,
     "metadata": {},
     "output_type": "execute_result"
    },
    {
     "data": {
      "image/png": "[encoded data removed]",
      "text/plain": [
       "<Figure size 432x288 with 1 Axes>"
      ]
     },
     "metadata": {
      "needs_background": "light"
     },
     "output_type": "display_data"
    }
   ],
   "source": [
    "from matplotlib import pyplot as plt\n",
    "import re\n",
    "import glob\n",
    "import numpy as np\n",
    "\n",
    "position, energy = [], []\n",
    "\n",
    "data = glob.glob('*.out')\n",
    "\n",
    "def getEnergy(path):\n",
    "    with open(path) as file:\n",
    "        content = file.readlines()\n",
    "    for line in content:\n",
    "        if \"Final defect energy\" in line:\n",
    "            return float(re.findall(\"[-+]?[.]?[\\d]+(?:,\\d\\d\\d)*[\\.]?\\d*(?:[eE][-+]?\\d+)?\", line)[0])\n",
    "\n",
    "for f in data:\n",
    "    position.append(float(f.strip('.out')))\n",
    "    energy.append(getEnergy(f))\n",
    "\n",
    "energies = np.array(energy)\n",
    "positions = np.array(position)\n",
    "idx   = np.argsort(positions)\n",
    "\n",
    "energies = np.array(energies)[idx]\n",
    "positions = np.array(positions)[idx]\n",
    "\n",
    "plt.plot(positions, energies)\n",
    "plt.ylim(14.5, 15)\n",
    "plt.show"
   ]
  },
  {
   "cell_type": "code",
   "execution_count": null,
   "metadata": {},
   "outputs": [],
   "source": []
  }
 ],
 "metadata": {
  "kernelspec": {
   "display_name": "Python 3",
   "language": "python",
   "name": "python3"
  },
  "language_info": {
   "codemirror_mode": {
    "name": "ipython",
    "version": 3
   },
   "file_extension": ".py",
   "mimetype": "text/x-python",
   "name": "python",
   "nbconvert_exporter": "python",
   "pygments_lexer": "ipython3",
   "version": "3.8.2"
  }
 },
 "nbformat": 4,
 "nbformat_minor": 4
}
