{
 "cells": [
  {
   "cell_type": "code",
   "execution_count": 12,
   "metadata": {},
   "outputs": [
    {
     "name": "stderr",
     "output_type": "stream",
     "text": [
      "100%|██████████| 8/8 [02:26<00:00, 18.27s/it]\n"
     ]
    }
   ],
   "source": [
    "import glob\n",
    "import subprocess\n",
    "from tqdm import tqdm\n",
    "import multiprocessing\n",
    "from time import sleep\n",
    "import random\n",
    "\n",
    "def gulp(input_path):\n",
    "    sleep(random.random())\n",
    "    run = True\n",
    "    output_path = input_path[:-3] + 'out'\n",
    "    try:\n",
    "        with open(output_path) as f:\n",
    "            file = f.read()\n",
    "        if 'Job Finished at' in file:\n",
    "            run = False\n",
    "    except:\n",
    "        pass\n",
    "    if run:\n",
    "        with open(input_path) as f:\n",
    "            output_path = input_path[:-3] + 'out'\n",
    "            with open(output_path, 'w') as o:\n",
    "                try:\n",
    "                    a = subprocess.run(['gulp'], stdin = f, stdout = o, timeout = 900)\n",
    "                except:\n",
    "                    pass\n",
    "\n",
    "all_cases = sorted(glob.glob('*.inp'), key = lambda x: x.split('/')[-1].split('.')[0])\n",
    "\n",
    "complete = []\n",
    "\n",
    "for case in all_cases:\n",
    "    try:\n",
    "        with open(case[:-3] + 'out', 'r') as f:\n",
    "            g = f.read()\n",
    "        if 'Final energy' in g:\n",
    "            complete.append(case)\n",
    "    except:\n",
    "        pass\n",
    "\n",
    "cases = [case for case in all_cases if case not in complete]\n",
    "\n",
    "N = len(cases)\n",
    "\n",
    "def update():\n",
    "    pbar.update(1)\n",
    "\n",
    "if __name__ == '__main__':\n",
    "    with multiprocessing.Pool() as pool:\n",
    "        for result in tqdm(pool.imap_unordered(gulp, cases), total=len(cases)):\n",
    "            pass\n",
    "    pool.close()\n",
    "    pool.join()"
   ]
  },
  {
   "cell_type": "code",
   "execution_count": 15,
   "metadata": {},
   "outputs": [],
   "source": [
    "import re\n",
    "import glob\n",
    "\n",
    "def getEnergy(path):\n",
    "    with open(path) as file:\n",
    "        content = file.readlines()\n",
    "    for line in content:\n",
    "        if \"Final defect energy\" in line:\n",
    "            return float(re.findall(\"[-+]?[.]?[\\d]+(?:,\\d\\d\\d)*[\\.]?\\d*(?:[eE][-+]?\\d+)?\", line)[0])\n",
    "\n",
    "def getLatticeEnergy(path):\n",
    "    with open(path) as file:\n",
    "        content = file.readlines()\n",
    "    for line in content:\n",
    "        if \"Final energy\" in line:\n",
    "            return float(re.findall(\"[-+]?[.]?[\\d]+(?:,\\d\\d\\d)*[\\.]?\\d*(?:[eE][-+]?\\d+)?\", line)[0])\n",
    "\n",
    "def energyList(data):\n",
    "    files = glob.glob(data)\n",
    "    energies = dict()\n",
    "    for f in files:\n",
    "        energies[f] = getEnergy(f)\n",
    "    return energies\n",
    "        \n",
    "def latticeEnergy(data):\n",
    "    lattice_energy = getLatticeEnergy(data)\n",
    "    return lattice_energy\n",
    "\n",
    "energies = energyList('*.out')\n",
    "lattice_energy = latticeEnergy('na3ocl_na_vac.out')\n",
    "\n",
    "na2o = latticeEnergy('ana2o.out') #lattice parameter fromm chemtube3d.com (fluorite)\n",
    "nacl = latticeEnergy('anacl.out') #lattice parameter from worksheet (rocksalt)\n",
    "mgo = latticeEnergy('amgo.out') #lattice parameter from crystec.de (rocksalt)\n",
    "mgcl2 = latticeEnergy('amgcl2.out') #lattice parameter from materialsproject.org\n",
    "cao = latticeEnergy('acao.out') #lattice parameter from ucl.ac.uk (rocksalt)\n",
    "cacl2 = latticeEnergy('acacl2.out') / 2 #lattice parameter from materialsproject.org\n",
    "sro = latticeEnergy('asro.out') #lattice parameter from ucl.ac.uk (rocksalt)\n",
    "srcl2 = latticeEnergy('asrcl2.out') #lattice parameter from materialsproject.org (fluorite)\n",
    "bao = latticeEnergy('abao.out') #lattice parameter from ucl.ac.uk (rocksalt)\n",
    "bacl2 = latticeEnergy('abacl2.out') #lattice parameter from materialsproject.org (fluorite)\n",
    "\n",
    "magic = open('/home/ben/Documents/gulp_calcs/0_summary/output_na3ocl_khandy.txt', 'w+')\n",
    "\n",
    "magic.write(\"Calculations on Na3OCl anti-perovskite:\")\n",
    "magic.write(\"\\n\")\n",
    "magic.write(\"***************************************\")\n",
    "magic.write(\"\\n\")\n",
    "magic.write(\"\\n\")\n",
    "magic.write(\"Na vacancy defect energy: \" + str(round(energies['na3ocl_na_vac.out'], 2)) + \" eV\" + \"\\n\")\n",
    "magic.write(\"Na vacancy migration barrier: \" + str(round((energies['na3ocl_na_vmig.out'] - energies['na3ocl_na_vac.out']), 2)) + \" eV\" + \"\\n\")\n",
    "magic.write(\"Na interstitial defect energy: \" + str(round(energies['na3ocl_na_int.out'], 2)) + \" eV\" + \"\\n\")\n",
    "magic.write(\"\\n\")\n",
    "magic.write(\"O vacancy defect energy: \" + str(round(energies['na3ocl_o_vac.out'], 2)) + \" eV\" + \"\\n\")\n",
    "magic.write(\"O interstitial defect energy: \" + str(round(energies['na3ocl_o_int.out'], 2)) + \" eV\" + \"\\n\")\n",
    "magic.write(\"\\n\")\n",
    "magic.write(\"Cl vacancy defect energy: \" + str(round(energies['na3ocl_cl_vac.out'], 2)) + \" eV\" + \"\\n\")\n",
    "magic.write(\"Cl interstitial defect energy: \" + str(round(energies['na3ocl_cl_int.out'], 2)) + \" eV\" + \"\\n\")\n",
    "magic.write(\"\\n\")\n",
    "magic.write(\"Mg impurity on Na defect energy: \" + str(round(energies['na3ocl_mg_dop.out'], 2)) + \" eV\" + \"\\n\")\n",
    "magic.write(\"Ca impurity on Na defect energy: \" + str(round(energies['na3ocl_ca_dop.out'], 2)) + \" eV\" + \"\\n\")\n",
    "magic.write(\"Sr impurity on Na defect energy: \" + str(round(energies['na3ocl_sr_dop.out'], 2)) + \" eV\" + \"\\n\")\n",
    "magic.write(\"Ba impurity on Na defect energy: \" + str(round(energies['na3ocl_ba_dop.out'], 2)) + \" eV\" + \"\\n\")\n",
    "magic.write(\"\\n\")\n",
    "magic.write(\"Mg impurity and Na vacancy energy: \" + str(round(energies['na3ocl_mg_clu.out'], 2)) + \" eV\" + \"\\n\")\n",
    "magic.write(\"Ca impurity and Na vacancy energy: \" + str(round(energies['na3ocl_ca_clu.out'], 2)) + \" eV\" + \"\\n\")\n",
    "magic.write(\"Sr impurity and Na vacancy energy: \" + str(round(energies['na3ocl_sr_clu.out'], 2)) + \" eV\" + \"\\n\")\n",
    "magic.write(\"Ba impurity and Na vacancy energy: \" + str(round(energies['na3ocl_ba_clu.out'], 2)) + \" eV\" + \"\\n\")\n",
    "magic.write(\"\\n\")\n",
    "magic.write(\"Na3OCl Schottky defect energy: \" + str(round((energies['na3ocl_na_vac.out'] * 3 + energies['na3ocl_o_vac.out'] + energies['na3ocl_cl_vac.out'] + lattice_energy), 2)) + \" eV\" + \"\\n\")\n",
    "magic.write(\"NaCl partial Schottky defect energy: \" + str(round((energies['na3ocl_na_vac.out'] + energies['na3ocl_cl_vac.out'] + nacl), 2)) + \" eV\" + \"\\n\")\n",
    "magic.write(\"Na2O partial Schottky defect energy: \" + str(round((energies['na3ocl_na_vac.out'] * 2 + energies['na3ocl_o_vac.out'] + na2o), 2)) + \" eV\" + \"\\n\")\n",
    "magic.write(\"Na Frenkel defect energy: \" + str(round((energies['na3ocl_na_vac.out'] + energies['na3ocl_na_int.out']), 2)) + \" eV\" + \"\\n\")\n",
    "magic.write(\"O Frenkel defect energy: \" + str(round((energies['na3ocl_o_vac.out'] + energies['na3ocl_o_int.out']), 2)) + \" eV\" + \"\\n\")\n",
    "magic.write(\"Cl Frenkel defect energy: \" + str(round((energies['na3ocl_cl_vac.out'] + energies['na3ocl_cl_int.out']), 2)) + \" eV\" + \"\\n\")\n",
    "magic.write(\"\\n\")\n",
    "magic.write(\"MgCl2 on Na doping defect energy: \" + str(round((energies['na3ocl_na_vac.out'] + energies['na3ocl_mg_dop.out'] + nacl * 2 - mgcl2), 2)) + \" eV\" + \"\\n\")\n",
    "magic.write(\"MgO on Na doping defect energy: \" + str(round((energies['na3ocl_na_vac.out'] + energies['na3ocl_mg_dop.out'] + na2o - mgo), 2)) + \" eV\" + \"\\n\")\n",
    "magic.write(\"Mg impurity and Na vacancy clustering energy: \" + str(round((energies['na3ocl_mg_clu.out'] - energies['na3ocl_mg_dop.out'] - energies['na3ocl_na_vac.out']), 2)) + \" eV\" + \"\\n\")\n",
    "magic.write(\"CaCl2 on Na doping defect energy: \" + str(round((energies['na3ocl_na_vac.out'] + energies['na3ocl_ca_dop.out'] + nacl * 2 - cacl2), 2)) + \" eV\" + \"\\n\")\n",
    "magic.write(\"CaO on Na doping defect energy: \" + str(round((energies['na3ocl_na_vac.out'] + energies['na3ocl_ca_dop.out'] + na2o - cao), 2)) + \" eV\" + \"\\n\")\n",
    "magic.write(\"Ca impurity and Na vacancy clustering energy: \" + str(round((energies['na3ocl_ca_clu.out'] - energies['na3ocl_ca_dop.out'] - energies['na3ocl_na_vac.out']), 2)) + \" eV\" + \"\\n\")\n",
    "magic.write(\"SrCl2 on Na doping defect energy: \" + str(round((energies['na3ocl_na_vac.out'] + energies['na3ocl_sr_dop.out'] + nacl * 2 - srcl2), 2)) + \" eV\" + \"\\n\")\n",
    "magic.write(\"SrO on Na doping defect energy: \" + str(round((energies['na3ocl_na_vac.out'] + energies['na3ocl_sr_dop.out'] + na2o - sro), 2)) + \" eV\" + \"\\n\")\n",
    "magic.write(\"Sr impurity and Na vacancy clustering energy: \" + str(round((energies['na3ocl_sr_clu.out'] - energies['na3ocl_sr_dop.out'] - energies['na3ocl_na_vac.out']), 2)) + \" eV\" + \"\\n\")\n",
    "magic.write(\"BaCl2 on Na doping defect energy: \" + str(round((energies['na3ocl_na_vac.out'] + energies['na3ocl_ba_dop.out'] + nacl * 2 - bacl2), 2)) + \" eV\" + \"\\n\")\n",
    "magic.write(\"BaO on Na doping defect energy: \" + str(round((energies['na3ocl_na_vac.out'] + energies['na3ocl_ba_dop.out'] + na2o - bao), 2)) + \" eV\" + \"\\n\")\n",
    "magic.write(\"Ba impurity and Na vacancy clustering energy: \" + str(round((energies['na3ocl_ba_clu.out'] - energies['na3ocl_ba_dop.out'] - energies['na3ocl_na_vac.out']), 2)) + \" eV\" + \"\\n\")\n",
    "magic.write(\"\\n\")\n",
    "magic.write(\"Lattice energy of Na3OCl (from calculations): \" + str(round(lattice_energy, 2)) + \" eV\" + \"\\n\")\n",
    "magic.write(\"Lattice energy of NaCl (from calculations): \" + str(round(nacl, 2)) + \" eV\" + \"\\n\")\n",
    "magic.write(\"Lattice energy of Na2O (from calculations): \" + str(round(na2o, 2)) + \" eV\" + \"\\n\")\n",
    "magic.write(\"Lattice energy of MgO (from calculations): \" + str(round(mgo, 2)) + \" eV\" + \"\\n\")\n",
    "magic.write(\"Lattice energy of MgCl2 (from calculations): \" + str(round(mgcl2, 2)) + \" eV\" + \"\\n\")\n",
    "magic.write(\"Lattice energy of CaO (from calculations): \" + str(round(cao, 2)) + \" eV\" + \"\\n\")\n",
    "magic.write(\"Lattice energy of CaCl2 (from calculations): \" + str(round(cacl2, 2)) + \" eV\" + \"\\n\")\n",
    "magic.write(\"Lattice energy of SrO (from calculations): \" + str(round(sro, 2)) + \" eV\" + \"\\n\")\n",
    "magic.write(\"Lattice energy of SrCl2 (from calculations): \" + str(round(srcl2, 2)) + \" eV\" + \"\\n\")\n",
    "magic.write(\"Lattice energy of BaO (from calculations): \" + str(round(bao, 2)) + \" eV\" + \"\\n\")\n",
    "magic.write(\"Lattice energy of BaCl2 (from calculations): \" + str(round(bacl2, 2)) + \" eV\" + \"\\n\")\n",
    "\n",
    "magic.close()"
   ]
  },
  {
   "cell_type": "code",
   "execution_count": 11,
   "metadata": {},
   "outputs": [
    {
     "data": {
      "image/png": "[encoded data removed]",
      "text/plain": [
       "<Figure size 432x288 with 1 Axes>"
      ]
     },
     "metadata": {
      "needs_background": "light"
     },
     "output_type": "display_data"
    }
   ],
   "source": [
    "import numpy as np\n",
    "import matplotlib.pyplot as plt\n",
    "\n",
    "labels = ['Na Frenkel', 'Na3OCl Schottky', 'NaCl Schottky', 'Na2O Schottky']\n",
    "\n",
    "calculations = [(energies['na3ocl_na_vac.out'] + energies['na3ocl_na_int.out']), \n",
    "                (energies['na3ocl_na_vac.out'] * 3 + energies['na3ocl_o_vac.out'] + energies['na3ocl_cl_vac.out'] + lattice_energy), \n",
    "                (energies['na3ocl_na_vac.out'] + energies['na3ocl_cl_vac.out'] + nacl), \n",
    "                (energies['na3ocl_na_vac.out'] * 2 + energies['na3ocl_o_vac.out'] + na2o)]\n",
    "dawson2018 = [2.45, 6.10, 1.75, 0]\n",
    "wan2015 = [1.94, 0, 1.28, 2.52]\n",
    "\n",
    "plt.bar(np.arange(len(calculations))-0.25, calculations, color='blue', tick_label=labels, width=0.25)\n",
    "plt.bar(np.arange(len(calculations)), dawson2018, color='green', tick_label=labels, width=0.25)\n",
    "plt.bar(np.arange(len(calculations))+0.25, wan2015, color='red', tick_label=labels, width=0.25)\n",
    "plt.xlabel('Defect type')\n",
    "plt.ylabel('Defect energy, eV')\n",
    "plt.legend(labels=['calculations', 'Dawson2018', 'Wan2018'])\n",
    "plt.title('Defect energy calculations using Khandy potentials')\n",
    "plt.savefig('/home/ben/Documents/gulp_calcs/0_summary/bar_na3ocl_khandy_defects.jpg', bbox_inches='tight', dpi=500)"
   ]
  },
  {
   "cell_type": "code",
   "execution_count": 19,
   "metadata": {},
   "outputs": [
    {
     "data": {
      "image/png": "[encoded data removed]",
      "text/plain": [
       "<Figure size 432x288 with 1 Axes>"
      ]
     },
     "metadata": {
      "needs_background": "light"
     },
     "output_type": "display_data"
    }
   ],
   "source": [
    "import numpy as np\n",
    "import matplotlib.pyplot as plt\n",
    "subscript = str.maketrans(\"0123456789\", \"₀₁₂₃₄₅₆₇₈₉\")\n",
    "\n",
    "metals = ['mg', 'ca', 'sr', 'ba']\n",
    "\n",
    "labels = ['Mg', 'Ca', 'Sr', 'Ba']\n",
    "cl_solution_energies = []\n",
    "o_solution_energies = []\n",
    "experimental = [1.93, 1.56, 1.28, 0.77]\n",
    "\n",
    "for i in metals:\n",
    "    mcl2 = latticeEnergy('a' + i + 'cl2.out')\n",
    "    if i == 'ca':\n",
    "        mcl2 = mcl2 / 2\n",
    "    cl_solution_energies.append(energies['na3ocl_na_vac.out'] + energies['na3ocl_' + i + '_dop.out'] + nacl * 2 - mcl2)\n",
    "    \n",
    "for i in metals:\n",
    "    mo = latticeEnergy('a' + i + 'o.out')\n",
    "    o_solution_energies.append(energies['na3ocl_na_vac.out'] + energies['na3ocl_' + i + '_dop.out'] + na2o - mo)\n",
    "\n",
    "plt.bar(np.arange(len(metals))-0.25, cl_solution_energies, color='green', tick_label=labels, width=0.25)\n",
    "plt.bar(np.arange(len(metals)), o_solution_energies, color='red', tick_label=labels, width=0.25)\n",
    "plt.bar(np.arange(len(metals))+0.25, experimental, color='black', tick_label=labels, width=0.25)\n",
    "plt.xlabel('Doping metal')\n",
    "plt.ylabel('Solution energy, eV')\n",
    "plt.legend(labels=['chlorides', 'oxides', 'oxides (Wan2018)'])\n",
    "plt.title('Doping calculations in Na3OCl w/ Khandy2020')\n",
    "plt.savefig('/home/ben/Documents/gulp_calcs/0_summary/bar_na3ocl_doping_khandy.jpg', bbox_inches='tight', dpi=500)"
   ]
  },
  {
   "cell_type": "code",
   "execution_count": 20,
   "metadata": {},
   "outputs": [
    {
     "data": {
      "image/png": "[encoded data removed]",
      "text/plain": [
       "<Figure size 432x288 with 1 Axes>"
      ]
     },
     "metadata": {
      "needs_background": "light"
     },
     "output_type": "display_data"
    }
   ],
   "source": [
    "import numpy as np\n",
    "import matplotlib.pyplot as plt\n",
    "subscript = str.maketrans(\"0123456789\", \"₀₁₂₃₄₅₆₇₈₉\")\n",
    "\n",
    "metals = ['mg', 'ca', 'sr', 'ba']\n",
    "\n",
    "labels = ['Mg', 'Ca', 'Sr', 'Ba']\n",
    "clustering_energies = []\n",
    "literature = [-0.25, -0.1, -0.15, -0.42]\n",
    "\n",
    "for i in metals:\n",
    "    clustering_energies.append(energies[f'na3ocl_{i}_clu.out'] - energies[f'na3ocl_{i}_dop.out'] - energies['na3ocl_na_vac.out'])\n",
    "\n",
    "plt.bar(np.arange(len(metals))-0.125, clustering_energies, color='blue', tick_label=labels, width=0.25)\n",
    "plt.bar(np.arange(len(metals))+0.125, literature, color='black', tick_label=labels, width=0.25)\n",
    "plt.xlabel('Doping metal')\n",
    "plt.ylabel('Clustering energy, eV')\n",
    "plt.legend(labels=['calculations', 'Wan2018'])\n",
    "plt.title('CLustring calculations in Na3OCl with Khandy2020')\n",
    "plt.savefig('/home/ben/Documents/gulp_calcs/0_summary/bar_na3ocl_clustering_khandy.jpg', bbox_inches='tight', dpi=500)"
   ]
  },
  {
   "cell_type": "code",
   "execution_count": null,
   "metadata": {},
   "outputs": [],
   "source": []
  }
 ],
 "metadata": {
  "kernelspec": {
   "display_name": "Python 3",
   "language": "python",
   "name": "python3"
  },
  "language_info": {
   "codemirror_mode": {
    "name": "ipython",
    "version": 3
   },
   "file_extension": ".py",
   "mimetype": "text/x-python",
   "name": "python",
   "nbconvert_exporter": "python",
   "pygments_lexer": "ipython3",
   "version": "3.8.5"
  }
 },
 "nbformat": 4,
 "nbformat_minor": 4
}
