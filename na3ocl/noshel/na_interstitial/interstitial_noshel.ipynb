{
 "cells": [
  {
   "cell_type": "code",
   "execution_count": 3,
   "metadata": {},
   "outputs": [],
   "source": [
    "import numpy as np\n",
    "\n",
    "for i in np.arange(13, 17):\n",
    "    for o in np.arange(21, 25):\n",
    "        filename = (f\"{i}{o}.inp\")\n",
    "        target = open(filename, 'w+')\n",
    "        target.write(\"\"\"include /home/ben/Documents/gulp/data_files/na3ocl_structure_noshel.inp\n",
    "\"\"\")\n",
    "        target.write(\"centre 0.5 0 0\")\n",
    "        target.write(f\"\"\"\n",
    "size {i} {o}\n",
    "\"\"\")\n",
    "        target.write(\"intersitial Na 0.5 0 0 fix\")\n",
    "        target.write(\"\"\"\n",
    "include /home/ben/Documents/gulp/data_files/na3ocl_potentials.inp    \n",
    "\"\"\")"
   ]
  },
  {
   "cell_type": "code",
   "execution_count": 8,
   "metadata": {},
   "outputs": [
    {
     "name": "stderr",
     "output_type": "stream",
     "text": [
      "100%|██████████| 1/1 [00:36<00:00, 36.71s/it]\n"
     ]
    }
   ],
   "source": [
    "import glob\n",
    "import subprocess\n",
    "from tqdm import tqdm\n",
    "import multiprocessing\n",
    "from time import sleep\n",
    "import random\n",
    "\n",
    "def gulp(input_path):\n",
    "    sleep(random.random())\n",
    "    run = True\n",
    "    output_path = input_path[:-3] + 'out'\n",
    "    try:\n",
    "        with open(output_path) as f:\n",
    "            file = f.read()\n",
    "        if 'Job Finished at' in file:\n",
    "            run = False\n",
    "    except:\n",
    "        pass\n",
    "    if run:\n",
    "        with open(input_path) as f:\n",
    "            output_path = input_path[:-3] + 'out'\n",
    "            with open(output_path, 'w') as o:\n",
    "                try:\n",
    "                    a = subprocess.run(['gulp'], stdin = f, stdout = o, timeout=None)\n",
    "                except:\n",
    "                    pass\n",
    "\n",
    "all_cases = sorted(glob.glob('*.inp'), key = lambda x: x.split('/')[-1].split('.')[0])\n",
    "\n",
    "complete = []\n",
    "\n",
    "for case in all_cases:\n",
    "    try:\n",
    "        with open(case[:-3] + 'out', 'r') as f:\n",
    "            g = f.read()\n",
    "        if 'Final energy' in g:\n",
    "            complete.append(case)\n",
    "    except:\n",
    "        pass\n",
    "\n",
    "cases = [case for case in all_cases if case not in complete]\n",
    "\n",
    "N = len(cases)\n",
    "\n",
    "def update():\n",
    "    pbar.update(1)\n",
    "\n",
    "if __name__ == '__main__':\n",
    "    with multiprocessing.Pool() as pool:\n",
    "        for result in tqdm(pool.imap_unordered(gulp, cases), total=len(cases)):\n",
    "            pass\n",
    "    pool.close()\n",
    "    pool.join()"
   ]
  },
  {
   "cell_type": "code",
   "execution_count": 2,
   "metadata": {},
   "outputs": [
    {
     "name": "stdout",
     "output_type": "stream",
     "text": [
      "[13, 13, 13, 13, 14, 14, 14, 14, 15, 15, 15, 15, 16, 16, 16, 16]\n",
      "[21, 22, 23, 24, 21, 22, 23, 24, 21, 22, 23, 24, 21, 22, 23, 24]\n"
     ]
    }
   ],
   "source": [
    "import re\n",
    "import glob\n",
    "import numpy as np\n",
    "\n",
    "def getEnergy(path):\n",
    "    with open(path) as file:\n",
    "        content = file.readlines()\n",
    "    for line in content:\n",
    "        if \"Final defect energy\" in line:\n",
    "            return float(re.findall(\"[-+]?[.]?[\\d]+(?:,\\d\\d\\d)*[\\.]?\\d*(?:[eE][-+]?\\d+)?\", line)[0])\n",
    "        else:\n",
    "            continue\n",
    "    \n",
    "def energyList(data):\n",
    "    files = glob.glob(data)\n",
    "    energies = dict()\n",
    "    for f in files:\n",
    "        energies[f] = getEnergy(f)\n",
    "    return energies\n",
    "\n",
    "inner = []\n",
    "outer = []\n",
    "\n",
    "for i in range(13, 17):\n",
    "    for o in range(21, 25):\n",
    "        inner.append(i)\n",
    "        outer.append(o)\n",
    "\n",
    "innerr = []\n",
    "outerr = []\n",
    "            \n",
    "for i in range(0, len(inner)):\n",
    "    if inner[i] <= outer[i]:\n",
    "        innerr.append(inner[i])\n",
    "        outerr.append(outer[i])\n",
    "        \n",
    "print(innerr)\n",
    "print(outerr)\n",
    "        \n",
    "energy = energyList('*.out')\n",
    "\n",
    "activation = []\n",
    "\n",
    "for i in range(13, 17):\n",
    "    for o in range(21, 25):\n",
    "        try:\n",
    "            activation.append(energy[f'{i}{o}.out'])\n",
    "        except:\n",
    "            pass"
   ]
  },
  {
   "cell_type": "code",
   "execution_count": 3,
   "metadata": {},
   "outputs": [
    {
     "data": {
      "image/png": "[encoded data removed]",
      "text/plain": [
       "<Figure size 432x432 with 2 Axes>"
      ]
     },
     "metadata": {
      "needs_background": "light"
     },
     "output_type": "display_data"
    }
   ],
   "source": [
    "import matplotlib.pyplot as plt\n",
    "from mpl_toolkits import mplot3d\n",
    "\n",
    "fig = plt.figure(figsize=(6, 6))\n",
    "ax = plt.axes()\n",
    "\n",
    "sctt = ax.scatter(innerr, outerr,\n",
    "           linewidths=1, alpha=.7,\n",
    "           edgecolor='k',\n",
    "           s = 200,\n",
    "           c=activation)\n",
    "plt.colorbar(sctt, ax=ax)\n",
    "plt.title('Dependence of interstitial energy on inner and outer defect radius (energy in eV)')\n",
    "plt.xlabel('Inner defect radius')\n",
    "plt.ylabel('Outer defect radius')\n",
    "plt.savefig('/home/ben/Documents/gulp/summary/na3ocl_naint_defsize_noshel.jpg', bbox_inches='tight', dpi=500)"
   ]
  },
  {
   "cell_type": "code",
   "execution_count": null,
   "metadata": {},
   "outputs": [],
   "source": []
  }
 ],
 "metadata": {
  "kernelspec": {
   "display_name": "Python 3",
   "language": "python",
   "name": "python3"
  },
  "language_info": {
   "codemirror_mode": {
    "name": "ipython",
    "version": 3
   },
   "file_extension": ".py",
   "mimetype": "text/x-python",
   "name": "python",
   "nbconvert_exporter": "python",
   "pygments_lexer": "ipython3",
   "version": "3.8.5"
  }
 },
 "nbformat": 4,
 "nbformat_minor": 4
}
