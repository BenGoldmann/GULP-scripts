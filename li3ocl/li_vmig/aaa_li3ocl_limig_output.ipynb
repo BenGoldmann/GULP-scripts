{
 "cells": [
  {
   "cell_type": "code",
   "execution_count": 4,
   "metadata": {},
   "outputs": [],
   "source": [
    "for i in range(0, 22, 1):\n",
    "    filename = (str(i) + \".inp\")\n",
    "    target = open(filename, 'w+')\n",
    "    pos = 0.5 * i * (1 / 20)\n",
    "    target.write(\"\"\"opti conp comp defe\n",
    "cell\n",
    "3.918873 3.918873 3.918873 90.0 90.0 90.0\n",
    "frac\n",
    "Cl core 0 0 0\n",
    "O core 0.5 0.5 0.5\n",
    "Cl shel 0 0 0\n",
    "O shel 0.5 0.5 0.5\n",
    "Li core 0.5 0.5 0\n",
    "space\n",
    "221\n",
    "\"\"\")\n",
    "    target.write(\"centre 0.5 \" + str(pos) + \" \" + str(0.5 - pos))\n",
    "    target.write(\"\"\"\n",
    "size 20 24\n",
    "vacancy 0.5 0.5 0.0\n",
    "vacancy 0.5 0.0 0.5\n",
    "\"\"\")\n",
    "    target.write(\"intersitial Li 0.5 \" + str(pos) + \" \" + str(0.5 - pos) + \" fix\")\n",
    "    target.write(\"\"\"\n",
    "species\n",
    "Li core 1.000\n",
    "O core 0.183\n",
    "O shel -2.183\n",
    "Cl core 1.485\n",
    "Cl shel -2.485\n",
    "spring\n",
    "O 593.7200\n",
    "Cl 29.3800\n",
    "buckingham\n",
    "Li core Li core 360.53 0.1610 0 0 12\n",
    "Li core O shel 292.30 0.3472 0 0 12\n",
    "Li core Cl shel 421.04 0.3340 0 0 12\n",
    "O shel O shel 22764.30 0.1490 13.19 0 12\n",
    "O shel Cl shel 8286.91 0.2590 62.20 0 12\n",
    "Cl shel Cl shel 1227.20 0.3210 14.53 0 12\n",
    "dump Li3OCl.grs\n",
    "\"\"\")\n",
    "    \n",
    "magic = open('input.txt', 'w+')\n",
    "\n",
    "for i in range(0, 21, 1):\n",
    "    magic.write('gulp < ' + str(i) + '.inp > ' + str(i) + '.out; ')\n",
    "    \n",
    "magic.close()"
   ]
  },
  {
   "cell_type": "code",
   "execution_count": 4,
   "metadata": {},
   "outputs": [
    {
     "data": {
      "image/png": "[encoded data removed]",
      "text/plain": [
       "<Figure size 432x288 with 1 Axes>"
      ]
     },
     "metadata": {
      "needs_background": "light"
     },
     "output_type": "display_data"
    }
   ],
   "source": [
    "from matplotlib import pyplot as plt\n",
    "import re\n",
    "import glob\n",
    "import numpy as np\n",
    "\n",
    "position, energy = [], []\n",
    "\n",
    "data = glob.glob('*.out')\n",
    "\n",
    "def getEnergy(path):\n",
    "    with open(path) as file:\n",
    "        content = file.readlines()\n",
    "    for line in content:\n",
    "        if \"Final defect energy\" in line:\n",
    "            return float(re.findall(\"[-+]?[.]?[\\d]+(?:,\\d\\d\\d)*[\\.]?\\d*(?:[eE][-+]?\\d+)?\", line)[0])\n",
    "\n",
    "for f in data:\n",
    "    position.append(float(f.strip('.out')))\n",
    "    energy.append(getEnergy(f))\n",
    "\n",
    "energies = np.array(energy)\n",
    "positions = np.array(position)\n",
    "idx   = np.argsort(positions)\n",
    "\n",
    "energies = np.array(energies)[idx]\n",
    "positions = np.array(positions)[idx]\n",
    "\n",
    "plt.plot(positions, energies)\n",
    "plt.ylim()\n",
    "plt.xlabel('Migration coordinate')\n",
    "plt.ylabel('Energy, eV')\n",
    "plt.savefig('/home/ben/Documents/gulp/summary/li3ocl_li_mig.jpg', bbox_inches='tight', dpi=500)"
   ]
  },
  {
   "cell_type": "code",
   "execution_count": null,
   "metadata": {},
   "outputs": [],
   "source": []
  }
 ],
 "metadata": {
  "kernelspec": {
   "display_name": "Python 3",
   "language": "python",
   "name": "python3"
  },
  "language_info": {
   "codemirror_mode": {
    "name": "ipython",
    "version": 3
   },
   "file_extension": ".py",
   "mimetype": "text/x-python",
   "name": "python",
   "nbconvert_exporter": "python",
   "pygments_lexer": "ipython3",
   "version": "3.8.5"
  }
 },
 "nbformat": 4,
 "nbformat_minor": 4
}
