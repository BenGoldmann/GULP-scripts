{
 "cells": [
  {
   "cell_type": "code",
   "execution_count": 2,
   "metadata": {},
   "outputs": [],
   "source": [
    "import re\n",
    "import glob\n",
    "\n",
    "def getEnergy(path):\n",
    "    with open(path) as file:\n",
    "        content = file.readlines()\n",
    "    for line in content:\n",
    "        if \"Final defect energy\" in line:\n",
    "            return float(re.findall(\"[-+]?[.]?[\\d]+(?:,\\d\\d\\d)*[\\.]?\\d*(?:[eE][-+]?\\d+)?\", line)[0])\n",
    "\n",
    "def getLatticeEnergy(path):\n",
    "    with open(path) as file:\n",
    "        content = file.readlines()\n",
    "    for line in content:\n",
    "        if \"Final energy\" in line:\n",
    "            return float(re.findall(\"[-+]?[.]?[\\d]+(?:,\\d\\d\\d)*[\\.]?\\d*(?:[eE][-+]?\\d+)?\", line)[0])\n",
    "\n",
    "def energyList(data):\n",
    "    files = glob.glob(data)\n",
    "    energies = dict()\n",
    "    for f in files:\n",
    "        energies[f] = getEnergy(f)\n",
    "    return energies\n",
    "        \n",
    "def latticeEnergy(data):\n",
    "    lattice_energy = getLatticeEnergy(data)\n",
    "    return lattice_energy\n",
    "\n",
    "energies = energyList('*.out')\n",
    "lattice_energy = latticeEnergy('li3ocl_li_vac.out')\n",
    "\n",
    "licl = latticeEnergy('alicl.out') #lattice parameter from ucl.ac.uk\n",
    "li2o = latticeEnergy('ali2o.out') #lattice parameter from ucl.ac.uk\n",
    "mgo = latticeEnergy('amgo.out') #lattice parameter from crystec.de\n",
    "mgcl2 = latticeEnergy('amgcl2.out') #materialsproject.org\n",
    "cao = latticeEnergy('acao.out') #lattice parameter from ucl.ac.uk\n",
    "cacl2 = latticeEnergy('acacl2.out') / 2 #lattice parameter from materialsproject.org\n",
    "sro = latticeEnergy('asro.out') #lattice parameter from ucl.ac.uk\n",
    "srcl2 = latticeEnergy('asrcl2.out') #lattice parameter from materialsproject.org\n",
    "bao = latticeEnergy('abao.out') #lattice parameter from ucl.ac.uk (rocksalt)\n",
    "bacl2 = latticeEnergy('abacl2.out') #lattice parameter from materialsproject.org (fluorite)\n",
    "\n",
    "magic = open('output_Li3OCl.txt', 'w+')\n",
    "\n",
    "magic.write(\"Calculations on Li3OCl anti-perovskite:\")\n",
    "magic.write(\"\\n\")\n",
    "magic.write(\"***************************************\")\n",
    "magic.write(\"\\n\")\n",
    "magic.write(\"\\n\")\n",
    "magic.write(\"Li vacancy defect energy: \" + str(round(energies['li3ocl_li_vac.out'], 2)) + \" eV\" + \"\\n\")\n",
    "magic.write(\"Li vacancy migration barrier: \" + str(round((energies['li3ocl_li_vmig.out'] - energies['li3ocl_li_vac.out']), 2)) + \" eV\" + \"\\n\")\n",
    "magic.write(\"Li interstitial defect energy: \" + str(round(energies['li3ocl_li_int.out'], 2)) + \" eV\" + \"\\n\")\n",
    "magic.write(\"\\n\")\n",
    "magic.write(\"O vacancy defect energy: \" + str(round(energies['li3ocl_o_vac.out'], 2)) + \" eV\" + \"\\n\")\n",
    "magic.write(\"O vacancy migration barrier: \" + str(round((energies['li3ocl_o_vmig.out'] - energies['li3ocl_o_vac.out']), 2)) + \" eV\" + \"\\n\")\n",
    "magic.write(\"O interstitial defect energy: \" + str(round(energies['li3ocl_o_int.out'], 2)) + \" eV\" + \"\\n\")\n",
    "magic.write(\"\\n\")\n",
    "magic.write(\"Cl vacancy defect energy: \" + str(round(energies['li3ocl_cl_vac.out'], 2)) + \" eV\" + \"\\n\")\n",
    "magic.write(\"Cl vacancy migration barrier: \" + str(round((energies['li3ocl_cl_vmig.out'] - energies['li3ocl_cl_vac.out']), 2)) + \" eV\" + \"\\n\")\n",
    "magic.write(\"Cl interstitial defect energy: \" + str(round(energies['li3ocl_cl_int.out'], 2)) + \" eV\" + \"\\n\")\n",
    "magic.write(\"\\n\")\n",
    "magic.write(\"Mg impurity on Li defect energy: \" + str(round(energies['li3ocl_mg_dop.out'], 2)) + \" eV\" + \"\\n\")\n",
    "magic.write(\"Ca impurity on Li defect energy: \" + str(round(energies['li3ocl_ca_dop.out'], 2)) + \" eV\" + \"\\n\")\n",
    "magic.write(\"Sr impurity on Li defect energy: \" + str(round(energies['li3ocl_sr_dop.out'], 2)) + \" eV\" + \"\\n\")\n",
    "magic.write(\"Ba impurity on Li defect energy: \" + str(round(energies['li3ocl_ba_dop.out'], 2)) + \" eV\" + \"\\n\")\n",
    "magic.write(\"\\n\")\n",
    "magic.write(\"Mg impurity and Li vacancy energy: \" + str(round(energies['li3ocl_mg_clu.out'], 2)) + \" eV\" + \"\\n\")\n",
    "magic.write(\"Ca impurity and Li vacancy energy: \" + str(round(energies['li3ocl_ca_clu.out'], 2)) + \" eV\" + \"\\n\")\n",
    "magic.write(\"Sr impurity and Li vacancy energy: \" + str(round(energies['li3ocl_sr_clu.out'], 2)) + \" eV\" + \"\\n\")\n",
    "magic.write(\"Ba impurity and Li vacancy energy: \" + str(round(energies['li3ocl_ba_clu.out'], 2)) + \" eV\" + \"\\n\")\n",
    "magic.write(\"\\n\")\n",
    "magic.write(\"Li3OCl Schottky defect energy: \" + str(round((energies['li3ocl_li_vac.out'] * 3 + energies['li3ocl_o_vac.out'] + energies['li3ocl_cl_vac.out'] + lattice_energy), 2)) + \" eV\" + \"\\n\")\n",
    "magic.write(\"LiCl partial Schottky defect energy: \" + str(round((energies['li3ocl_li_vac.out'] + energies['li3ocl_cl_vac.out'] - 8.72), 2)) + \" eV\" + \"\\n\")\n",
    "magic.write(\"Li2O partial Schottky defect energy: \" + str(round((energies['li3ocl_li_vac.out'] * 2 + energies['li3ocl_o_vac.out'] - 30.06), 2)) + \" eV\" + \"\\n\")\n",
    "magic.write(\"Li Frenkel defect energy: \" + str(round((energies['li3ocl_li_vac.out'] + energies['li3ocl_li_int.out']), 2)) + \" eV\" + \"\\n\")\n",
    "magic.write(\"O Frenkel defect energy: \" + str(round((energies['li3ocl_o_vac.out'] + energies['li3ocl_o_int.out']), 2)) + \" eV\" + \"\\n\")\n",
    "magic.write(\"Cl Frenkel defect energy: \" + str(round((energies['li3ocl_cl_vac.out'] + energies['li3ocl_cl_int.out']), 2)) + \" eV\" + \"\\n\")\n",
    "magic.write(\"\\n\")\n",
    "magic.write(\"MgCl2 on Li doping defect energy: \" + str(round((energies['li3ocl_li_vac.out'] + energies['li3ocl_mg_dop.out'] + licl * 2 - mgcl2), 2)) + \" eV\" + \"\\n\")\n",
    "magic.write(\"MgO on Li doping defect energy: \" + str(round((energies['li3ocl_li_vac.out'] + energies['li3ocl_mg_dop.out'] + li2o - mgo), 2)) + \" eV\" + \"\\n\")\n",
    "magic.write(\"Mg impurity and Li vacancy clustering energy: \" + str(round((energies['li3ocl_mg_clu.out'] - energies['li3ocl_mg_dop.out'] - energies['li3ocl_li_vac.out']), 2)) + \" eV\" + \"\\n\")\n",
    "magic.write(\"CaCl2 on Li doping defect energy: \" + str(round((energies['li3ocl_li_vac.out'] + energies['li3ocl_ca_dop.out'] + licl * 2 - cacl2), 2)) + \" eV\" + \"\\n\")\n",
    "magic.write(\"CaO on Li doping defect energy: \" + str(round((energies['li3ocl_li_vac.out'] + energies['li3ocl_ca_dop.out'] + li2o - cao), 2)) + \" eV\" + \"\\n\")\n",
    "magic.write(\"Ca impurity and Li vacancy clustering energy: \" + str(round((energies['li3ocl_ca_clu.out'] - energies['li3ocl_ca_dop.out'] - energies['li3ocl_li_vac.out']), 2)) + \" eV\" + \"\\n\")\n",
    "magic.write(\"SrCl2 on Li doping defect energy: \" + str(round((energies['li3ocl_li_vac.out'] + energies['li3ocl_sr_dop.out'] + licl * 2 - srcl2), 2)) + \" eV\" + \"\\n\")\n",
    "magic.write(\"SrO on Li doping defect energy: \" + str(round((energies['li3ocl_li_vac.out'] + energies['li3ocl_sr_dop.out'] + li2o - sro), 2)) + \" eV\" + \"\\n\")\n",
    "magic.write(\"Sr impurity and Li vacancy clustering energy: \" + str(round((energies['li3ocl_sr_clu.out'] - energies['li3ocl_sr_dop.out'] - energies['li3ocl_li_vac.out']), 2)) + \" eV\" + \"\\n\")\n",
    "magic.write(\"BaCl2 on Li doping defect energy: \" + str(round((energies['li3ocl_li_vac.out'] + energies['li3ocl_ba_dop.out'] + licl * 2 - bacl2), 2)) + \" eV\" + \"\\n\")\n",
    "magic.write(\"BaO on Li doping defect energy: \" + str(round((energies['li3ocl_li_vac.out'] + energies['li3ocl_ba_dop.out'] + li2o - bao), 2)) + \" eV\" + \"\\n\")\n",
    "magic.write(\"Ba impurity and Li vacancy clustering energy: \" + str(round((energies['li3ocl_ba_clu.out'] - energies['li3ocl_ba_dop.out'] - energies['li3ocl_li_vac.out']), 2)) + \" eV\" + \"\\n\")\n",
    "magic.write(\"\\n\")\n",
    "magic.write(\"Lattice energy of Li3OCl (from calculations): \" + str(round(lattice_energy, 2)) + \" eV\" + \"\\n\")\n",
    "magic.write(\"Lattice energy of LiCl (from calculations): \" + str(round(licl, 2)) + \" eV\" + \"\\n\")\n",
    "magic.write(\"Lattice energy of Li2O (from calculations): \" + str(round(li2o, 2)) + \" eV\" + \"\\n\")\n",
    "magic.write(\"Lattice energy of MgO (from calculations): \" + str(round(mgo, 2)) + \" eV\" + \"\\n\")\n",
    "magic.write(\"Lattice energy of MgCl2 (from calculations): \" + str(round(mgcl2, 2)) + \" eV\" + \"\\n\")\n",
    "magic.write(\"Lattice energy of CaO (from calculations): \" + str(round(cao, 2)) + \" eV\" + \"\\n\")\n",
    "magic.write(\"Lattice energy of CaCl2 (from calculations): \" + str(round(cacl2, 2)) + \" eV\" + \"\\n\")\n",
    "magic.write(\"Lattice energy of SrO (from calculations): \" + str(round(sro, 2)) + \" eV\" + \"\\n\")\n",
    "magic.write(\"Lattice energy of SrCl2 (from calculations): \" + str(round(srcl2, 2)) + \" eV\" + \"\\n\")\n",
    "magic.write(\"Lattice energy of BaO (from calculations): \" + str(round(bao, 2)) + \" eV\" + \"\\n\")\n",
    "magic.write(\"Lattice energy of BaCl2 (from calculations): \" + str(round(bacl2, 2)) + \" eV\" + \"\\n\")\n",
    "\n",
    "magic.close()"
   ]
  },
  {
   "cell_type": "code",
   "execution_count": 7,
   "metadata": {},
   "outputs": [
    {
     "data": {
      "image/png": "[encoded data removed]",
      "text/plain": [
       "<Figure size 432x288 with 1 Axes>"
      ]
     },
     "metadata": {
      "needs_background": "light"
     },
     "output_type": "display_data"
    }
   ],
   "source": [
    "import numpy as np\n",
    "import matplotlib.pyplot as plt\n",
    "subscript = str.maketrans(\"0123456789\", \"₀₁₂₃₄₅₆₇₈₉\")\n",
    "\n",
    "metals = ['mg', 'ca', 'sr', 'ba']\n",
    "\n",
    "labels = ['Mg', 'Ca', 'Sr', 'Ba']\n",
    "cl_solution_energies = []\n",
    "o_solution_energies = []\n",
    "matt = [0.9, 3.1, 2.9, 3.5]\n",
    "mattcl = [-0.1, 0.7, 3.7, 4.1]\n",
    "\n",
    "for i in metals:\n",
    "    mcl2 = latticeEnergy('a' + i + 'cl2.out')\n",
    "    if i == 'ca':\n",
    "        mcl2 = mcl2 / 2\n",
    "    cl_solution_energies.append(energies['li3ocl_li_vac.out'] + energies['li3ocl_' + i + '_dop.out'] + licl * 2 - mcl2)\n",
    "    \n",
    "for i in metals:\n",
    "    mo = latticeEnergy('a' + i + 'o.out')\n",
    "    o_solution_energies.append(energies['li3ocl_li_vac.out'] + energies['li3ocl_' + i + '_dop.out'] + li2o - mo)\n",
    "\n",
    "plt.bar(np.arange(len(metals)), cl_solution_energies, color='green', tick_label=labels, width=0.2)\n",
    "plt.bar(np.arange(len(metals))+0.2, mattcl, color='yellow', tick_label=labels, width=0.2)\n",
    "plt.bar(np.arange(len(metals))+0.4, o_solution_energies, color='red', tick_label=labels, width=0.2)\n",
    "plt.bar(np.arange(len(metals))+0.6, matt, color='blue', tick_label=labels, width=0.2)\n",
    "plt.xlabel('Doping metal')\n",
    "plt.ylabel('Solution energy, eV')\n",
    "plt.legend(labels=['chlorides', 'chlorides (Matt)', 'oxides', 'oxides (Matt)'])\n",
    "plt.savefig('/home/ben/Documents/gulp/summary/li3ocl_doping.jpg', bbox_inches='tight', dpi=500,)"
   ]
  },
  {
   "cell_type": "code",
   "execution_count": 9,
   "metadata": {},
   "outputs": [
    {
     "data": {
      "image/png": "[encoded data removed]",
      "text/plain": [
       "<Figure size 432x288 with 1 Axes>"
      ]
     },
     "metadata": {
      "needs_background": "light"
     },
     "output_type": "display_data"
    }
   ],
   "source": [
    "import numpy as np\n",
    "import matplotlib.pyplot as plt\n",
    "subscript = str.maketrans(\"0123456789\", \"₀₁₂₃₄₅₆₇₈₉\")\n",
    "\n",
    "metals = ['mg', 'ca', 'sr', 'ba']\n",
    "\n",
    "labels = ['Mg', 'Ca', 'Sr', 'Ba']\n",
    "clustering_energies = []\n",
    "matt = [-0.37, -0.73, -0.79, -1.01]\n",
    "\n",
    "for i in metals:\n",
    "    clustering_energies.append(energies[f'li3ocl_{i}_clu.out'] - energies[f'li3ocl_{i}_dop.out'] - energies['li3ocl_li_vac.out'])\n",
    "\n",
    "plt.bar(np.arange(len(metals)), clustering_energies, color='red', tick_label=labels, width=0.25)\n",
    "plt.bar(np.arange(len(metals))+0.25, matt, color='blue', tick_label=labels, width=0.25)\n",
    "plt.xlabel('Doping metal')\n",
    "plt.ylabel('Clustering energy, eV')\n",
    "plt.legend(labels=['calculated', 'Matt'])\n",
    "plt.savefig('/home/ben/Documents/gulp/summary/li3ocl_clustering.jpg', bbox_inches='tight', dpi=500)"
   ]
  },
  {
   "cell_type": "code",
   "execution_count": 13,
   "metadata": {},
   "outputs": [
    {
     "data": {
      "image/png": "[encoded data removed]",
      "text/plain": [
       "<Figure size 432x288 with 1 Axes>"
      ]
     },
     "metadata": {
      "needs_background": "light"
     },
     "output_type": "display_data"
    }
   ],
   "source": [
    "import numpy as np\n",
    "import matplotlib.pyplot as plt\n",
    "\n",
    "labels = ['Li Frenkel', 'Li3OCl Schottky', 'LiCl Schottky', 'Li2O Schottky']\n",
    "\n",
    "calculations = [(energies['li3ocl_li_vac.out'] + energies['li3ocl_li_int.out']), \n",
    "                (energies['li3ocl_li_vac.out'] * 3 + energies['li3ocl_o_vac.out'] + energies['li3ocl_cl_vac.out'] + lattice_energy), \n",
    "                (energies['li3ocl_li_vac.out'] + energies['li3ocl_cl_vac.out'] + licl), \n",
    "                (energies['li3ocl_li_vac.out'] * 2 + energies['li3ocl_o_vac.out'] + li2o)]\n",
    "\n",
    "plt.bar(np.arange(len(calculations)), calculations, color='green', tick_label=labels, width=0.25)\n",
    "plt.xlabel('Defect type')\n",
    "plt.ylabel('Defect energy, eV')\n",
    "plt.legend(labels=['calculations', 'Dawson2018', 'Wan2015'])\n",
    "plt.savefig('/home/ben/Documents/gulp/summary/li3ocl_defects.jpg', bbox_inches='tight', dpi=500)"
   ]
  },
  {
   "cell_type": "code",
   "execution_count": null,
   "metadata": {},
   "outputs": [],
   "source": []
  }
 ],
 "metadata": {
  "kernelspec": {
   "display_name": "Python 3",
   "language": "python",
   "name": "python3"
  },
  "language_info": {
   "codemirror_mode": {
    "name": "ipython",
    "version": 3
   },
   "file_extension": ".py",
   "mimetype": "text/x-python",
   "name": "python",
   "nbconvert_exporter": "python",
   "pygments_lexer": "ipython3",
   "version": "3.8.5"
  }
 },
 "nbformat": 4,
 "nbformat_minor": 4
}
